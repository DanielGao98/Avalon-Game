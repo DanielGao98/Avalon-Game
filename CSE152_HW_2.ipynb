{
  "nbformat": 4,
  "nbformat_minor": 0,
  "metadata": {
    "accelerator": "GPU",
    "colab": {
      "name": "CSE152_HW_2.ipynb",
      "provenance": [],
      "collapsed_sections": [],
      "include_colab_link": true
    },
    "kernelspec": {
      "display_name": "Python 3",
      "language": "python",
      "name": "python3"
    },
    "language_info": {
      "codemirror_mode": {
        "name": "ipython",
        "version": 3
      },
      "file_extension": ".py",
      "mimetype": "text/x-python",
      "name": "python",
      "nbconvert_exporter": "python",
      "pygments_lexer": "ipython3",
      "version": "3.7.4"
    }
  },
  "cells": [
    {
      "cell_type": "markdown",
      "metadata": {
        "id": "view-in-github",
        "colab_type": "text"
      },
      "source": [
        "<a href=\"https://colab.research.google.com/github/DanielGao98/Avalon-Game/blob/master/CSE152_HW_2.ipynb\" target=\"_parent\"><img src=\"https://colab.research.google.com/assets/colab-badge.svg\" alt=\"Open In Colab\"/></a>"
      ]
    },
    {
      "cell_type": "markdown",
      "metadata": {
        "id": "R8x7NMv2HnLL"
      },
      "source": [
        "# HW 2\n",
        "\n",
        "For this homework you will be using pytorch and torchvision library for neural networks and datasets. You can install them with pip install torch torchvision.\n"
      ]
    },
    {
      "cell_type": "code",
      "metadata": {
        "id": "7CN-0glSHOTJ"
      },
      "source": [
        "import numpy as np\n",
        "import matplotlib.pyplot as plt\n",
        "from torch import nn\n",
        "import torch\n",
        "from torchvision.datasets import MNIST\n",
        "import torchvision.transforms as transforms\n",
        "from sklearn.metrics import accuracy_score\n",
        "import pandas as pd"
      ],
      "execution_count": null,
      "outputs": []
    },
    {
      "cell_type": "markdown",
      "metadata": {
        "id": "J_xRwMS2HpzK"
      },
      "source": [
        "# 1 Question 1 Principal Component Analysis\n",
        "\n",
        "This problem will guide you through the principal component analysis. You will be using a classical dataset, the MNIST hand written digit dataset."
      ]
    },
    {
      "cell_type": "code",
      "metadata": {
        "id": "Q-q4YGtwHqg8",
        "outputId": "591b504e-76b5-4068-917b-56755874b9a9",
        "colab": {
          "base_uri": "https://localhost:8080/",
          "height": 367
        }
      },
      "source": [
        " # Load the MNIST dataset\n",
        "mnist = MNIST('.', download=True)\n",
        "data = mnist.train_data.numpy()\n",
        "labels = mnist.train_labels.numpy()\n",
        "print('shapes:', data.shape, labels.shape)\n",
        "plt.imshow(data[0])\n",
        "print('label:', labels[0])"
      ],
      "execution_count": null,
      "outputs": [
        {
          "output_type": "stream",
          "text": [
            "shapes: (60000, 28, 28) (60000,)\n",
            "label: 5\n"
          ],
          "name": "stdout"
        },
        {
          "output_type": "stream",
          "text": [
            "/usr/local/lib/python3.6/dist-packages/torchvision/datasets/mnist.py:58: UserWarning: train_data has been renamed data\n",
            "  warnings.warn(\"train_data has been renamed data\")\n",
            "/usr/local/lib/python3.6/dist-packages/torchvision/datasets/mnist.py:48: UserWarning: train_labels has been renamed targets\n",
            "  warnings.warn(\"train_labels has been renamed targets\")\n"
          ],
          "name": "stderr"
        },
        {
          "output_type": "display_data",
          "data": {
            "image/png": "[encoded data removed]",
            "text/plain": [
              "<Figure size 432x288 with 1 Axes>"
            ]
          },
          "metadata": {
            "tags": [],
            "needs_background": "light"
          }
        }
      ]
    },
    {
      "cell_type": "markdown",
      "metadata": {
        "id": "5QoT_1_fH57B"
      },
      "source": [
        "### 1.1 Step 1.1 Familiarize yourself with the data\n",
        "\n",
        "For this task, you will be using the torchvision package that provides the MNIST dataset. For each digit class(0-9), plot 1 image from the class and store those 10 images for each digit class in the array digit_images."
      ]
    },
    {
      "cell_type": "code",
      "metadata": {
        "id": "n149sRzcHvH5",
        "outputId": "8abf05e3-fe42-42ed-e636-6b701c16fd0c",
        "colab": {
          "base_uri": "https://localhost:8080/",
          "height": 1000
        }
      },
      "source": [
        "digit_images = np.zeros([10, 28, 28])\n",
        "for i in range(10):\n",
        "  for x,y in zip(data, labels):\n",
        "    if y == i:\n",
        "      digit_images[i] = x\n",
        "      break\n",
        "  plt.imshow(digit_images[i])\n",
        "  plt.show()\n"
      ],
      "execution_count": null,
      "outputs": [
        {
          "output_type": "display_data",
          "data": {
            "image/png": "[encoded data removed]",
            "text/plain": [
              "<Figure size 432x288 with 1 Axes>"
            ]
          },
          "metadata": {
            "tags": [],
            "needs_background": "light"
          }
        },
        {
          "output_type": "display_data",
          "data": {
            "image/png": "[encoded data removed]",
            "text/plain": [
              "<Figure size 432x288 with 1 Axes>"
            ]
          },
          "metadata": {
            "tags": [],
            "needs_background": "light"
          }
        },
        {
          "output_type": "display_data",
          "data": {
            "image/png": "[encoded data removed]",
            "text/plain": [
              "<Figure size 432x288 with 1 Axes>"
            ]
          },
          "metadata": {
            "tags": [],
            "needs_background": "light"
          }
        },
        {
          "output_type": "display_data",
          "data": {
            "image/png": "[encoded data removed]",
            "text/plain": [
              "<Figure size 432x288 with 1 Axes>"
            ]
          },
          "metadata": {
            "tags": [],
            "needs_background": "light"
          }
        },
        {
          "output_type": "display_data",
          "data": {
            "image/png": "[encoded data removed]",
            "text/plain": [
              "<Figure size 432x288 with 1 Axes>"
            ]
          },
          "metadata": {
            "tags": [],
            "needs_background": "light"
          }
        },
        {
          "output_type": "display_data",
          "data": {
            "image/png": "[encoded data removed]",
            "text/plain": [
              "<Figure size 432x288 with 1 Axes>"
            ]
          },
          "metadata": {
            "tags": [],
            "needs_background": "light"
          }
        },
        {
          "output_type": "display_data",
          "data": {
            "image/png": "[encoded data removed]",
            "text/plain": [
              "<Figure size 432x288 with 1 Axes>"
            ]
          },
          "metadata": {
            "tags": [],
            "needs_background": "light"
          }
        },
        {
          "output_type": "display_data",
          "data": {
            "image/png": "[encoded data removed]",
            "text/plain": [
              "<Figure size 432x288 with 1 Axes>"
            ]
          },
          "metadata": {
            "tags": [],
            "needs_background": "light"
          }
        },
        {
          "output_type": "display_data",
          "data": {
            "image/png": "[encoded data removed]",
            "text/plain": [
              "<Figure size 432x288 with 1 Axes>"
            ]
          },
          "metadata": {
            "tags": [],
            "needs_background": "light"
          }
        },
        {
          "output_type": "display_data",
          "data": {
            "image/png": "[encoded data removed]",
            "text/plain": [
              "<Figure size 432x288 with 1 Axes>"
            ]
          },
          "metadata": {
            "tags": [],
            "needs_background": "light"
          }
        }
      ]
    },
    {
      "cell_type": "code",
      "metadata": {
        "id": "Uia56QmfIlJT"
      },
      "source": [
        ""
      ],
      "execution_count": null,
      "outputs": []
    },
    {
      "cell_type": "markdown",
      "metadata": {
        "id": "ySHV4MkxIy3t"
      },
      "source": [
        "## 2 Question 2. PCA\n",
        "\n",
        "This section deals with performing PCA on the MNIST dataset. We will explore 2 different methods of performing PCA. First using SVD, second using Eigen Decomposition. Please refer to the lecture slides, in particular slides 30-32 from Lec 3 which can be found [here](https://ucsd-cse-152.github.io/FA20/slides/Lec3.pdf).\n",
        "\n",
        "### 2.1 Question 2.1 Centering the data [5 points]\n",
        "\n",
        "For each image, flatten it to a 1-D vector. To perform PCA on the dataset, we first move the data points so they have 0 mean on each dimension. Store the centered data in variable **data_centered** and the mean of each dimension in variable **data_mean**.\n"
      ]
    },
    {
      "cell_type": "code",
      "metadata": {
        "id": "P3FOwDM6I5p5",
        "outputId": "eb8e5f80-645f-4cf2-a0b7-fb6bcb82c435",
        "colab": {
          "base_uri": "https://localhost:8080/"
        }
      },
      "source": [
        "data_centered = np.zeros(shape=(60000,784))\n",
        "data_mean = None\n",
        "reshaped_data = np.zeros(shape=(60000,784))\n",
        "### YOUR CODE HERE\n",
        "# hint: You need np.mean() and x.reshape() functions (x is a matrix). \n",
        "for i in range(0,len(data)):\n",
        "  reshaped_data[i] = data[i].reshape(1,784)\n",
        "\n",
        "data_mean = np.mean(reshaped_data, axis=0)\n",
        "print(reshaped_data[0]) \n",
        "\n",
        "for x in range(0, len(data)):\n",
        "  data_centered[x] = reshaped_data[x] - data_mean\n",
        "print(data_centered[0]) \n",
        "### END OF CODE"
      ],
      "execution_count": null,
      "outputs": [
        {
          "output_type": "stream",
          "text": [
            "[  0.   0.   0.   0.   0.   0.   0.   0.   0.   0.   0.   0.   0.   0.\n",
            "   0.   0.   0.   0.   0.   0.   0.   0.   0.   0.   0.   0.   0.   0.\n",
            "   0.   0.   0.   0.   0.   0.   0.   0.   0.   0.   0.   0.   0.   0.\n",
            "   0.   0.   0.   0.   0.   0.   0.   0.   0.   0.   0.   0.   0.   0.\n",
            "   0.   0.   0.   0.   0.   0.   0.   0.   0.   0.   0.   0.   0.   0.\n",
            "   0.   0.   0.   0.   0.   0.   0.   0.   0.   0.   0.   0.   0.   0.\n",
            "   0.   0.   0.   0.   0.   0.   0.   0.   0.   0.   0.   0.   0.   0.\n",
            "   0.   0.   0.   0.   0.   0.   0.   0.   0.   0.   0.   0.   0.   0.\n",
            "   0.   0.   0.   0.   0.   0.   0.   0.   0.   0.   0.   0.   0.   0.\n",
            "   0.   0.   0.   0.   0.   0.   0.   0.   0.   0.   0.   0.   0.   0.\n",
            "   0.   0.   0.   0.   0.   0.   0.   0.   0.   0.   0.   0.   3.  18.\n",
            "  18.  18. 126. 136. 175.  26. 166. 255. 247. 127.   0.   0.   0.   0.\n",
            "   0.   0.   0.   0.   0.   0.   0.   0.  30.  36.  94. 154. 170. 253.\n",
            " 253. 253. 253. 253. 225. 172. 253. 242. 195.  64.   0.   0.   0.   0.\n",
            "   0.   0.   0.   0.   0.   0.   0.  49. 238. 253. 253. 253. 253. 253.\n",
            " 253. 253. 253. 251.  93.  82.  82.  56.  39.   0.   0.   0.   0.   0.\n",
            "   0.   0.   0.   0.   0.   0.   0.  18. 219. 253. 253. 253. 253. 253.\n",
            " 198. 182. 247. 241.   0.   0.   0.   0.   0.   0.   0.   0.   0.   0.\n",
            "   0.   0.   0.   0.   0.   0.   0.   0.  80. 156. 107. 253. 253. 205.\n",
            "  11.   0.  43. 154.   0.   0.   0.   0.   0.   0.   0.   0.   0.   0.\n",
            "   0.   0.   0.   0.   0.   0.   0.   0.   0.  14.   1. 154. 253.  90.\n",
            "   0.   0.   0.   0.   0.   0.   0.   0.   0.   0.   0.   0.   0.   0.\n",
            "   0.   0.   0.   0.   0.   0.   0.   0.   0.   0.   0. 139. 253. 190.\n",
            "   2.   0.   0.   0.   0.   0.   0.   0.   0.   0.   0.   0.   0.   0.\n",
            "   0.   0.   0.   0.   0.   0.   0.   0.   0.   0.   0.  11. 190. 253.\n",
            "  70.   0.   0.   0.   0.   0.   0.   0.   0.   0.   0.   0.   0.   0.\n",
            "   0.   0.   0.   0.   0.   0.   0.   0.   0.   0.   0.   0.  35. 241.\n",
            " 225. 160. 108.   1.   0.   0.   0.   0.   0.   0.   0.   0.   0.   0.\n",
            "   0.   0.   0.   0.   0.   0.   0.   0.   0.   0.   0.   0.   0.  81.\n",
            " 240. 253. 253. 119.  25.   0.   0.   0.   0.   0.   0.   0.   0.   0.\n",
            "   0.   0.   0.   0.   0.   0.   0.   0.   0.   0.   0.   0.   0.   0.\n",
            "  45. 186. 253. 253. 150.  27.   0.   0.   0.   0.   0.   0.   0.   0.\n",
            "   0.   0.   0.   0.   0.   0.   0.   0.   0.   0.   0.   0.   0.   0.\n",
            "   0.  16.  93. 252. 253. 187.   0.   0.   0.   0.   0.   0.   0.   0.\n",
            "   0.   0.   0.   0.   0.   0.   0.   0.   0.   0.   0.   0.   0.   0.\n",
            "   0.   0.   0. 249. 253. 249.  64.   0.   0.   0.   0.   0.   0.   0.\n",
            "   0.   0.   0.   0.   0.   0.   0.   0.   0.   0.   0.   0.   0.   0.\n",
            "  46. 130. 183. 253. 253. 207.   2.   0.   0.   0.   0.   0.   0.   0.\n",
            "   0.   0.   0.   0.   0.   0.   0.   0.   0.   0.   0.   0.  39. 148.\n",
            " 229. 253. 253. 253. 250. 182.   0.   0.   0.   0.   0.   0.   0.   0.\n",
            "   0.   0.   0.   0.   0.   0.   0.   0.   0.   0.  24. 114. 221. 253.\n",
            " 253. 253. 253. 201.  78.   0.   0.   0.   0.   0.   0.   0.   0.   0.\n",
            "   0.   0.   0.   0.   0.   0.   0.   0.  23.  66. 213. 253. 253. 253.\n",
            " 253. 198.  81.   2.   0.   0.   0.   0.   0.   0.   0.   0.   0.   0.\n",
            "   0.   0.   0.   0.   0.   0.  18. 171. 219. 253. 253. 253. 253. 195.\n",
            "  80.   9.   0.   0.   0.   0.   0.   0.   0.   0.   0.   0.   0.   0.\n",
            "   0.   0.   0.   0.  55. 172. 226. 253. 253. 253. 253. 244. 133.  11.\n",
            "   0.   0.   0.   0.   0.   0.   0.   0.   0.   0.   0.   0.   0.   0.\n",
            "   0.   0.   0.   0. 136. 253. 253. 253. 212. 135. 132.  16.   0.   0.\n",
            "   0.   0.   0.   0.   0.   0.   0.   0.   0.   0.   0.   0.   0.   0.\n",
            "   0.   0.   0.   0.   0.   0.   0.   0.   0.   0.   0.   0.   0.   0.\n",
            "   0.   0.   0.   0.   0.   0.   0.   0.   0.   0.   0.   0.   0.   0.\n",
            "   0.   0.   0.   0.   0.   0.   0.   0.   0.   0.   0.   0.   0.   0.\n",
            "   0.   0.   0.   0.   0.   0.   0.   0.   0.   0.   0.   0.   0.   0.\n",
            "   0.   0.   0.   0.   0.   0.   0.   0.   0.   0.   0.   0.   0.   0.\n",
            "   0.   0.   0.   0.   0.   0.   0.   0.   0.   0.   0.   0.   0.   0.]\n",
            "[ 0.00000000e+00  0.00000000e+00  0.00000000e+00  0.00000000e+00\n",
            "  0.00000000e+00  0.00000000e+00  0.00000000e+00  0.00000000e+00\n",
            "  0.00000000e+00  0.00000000e+00  0.00000000e+00  0.00000000e+00\n",
            " -2.10000000e-03 -7.83333333e-03 -3.60000000e-03 -1.50000000e-04\n",
            "  0.00000000e+00  0.00000000e+00  0.00000000e+00  0.00000000e+00\n",
            "  0.00000000e+00  0.00000000e+00  0.00000000e+00  0.00000000e+00\n",
            "  0.00000000e+00  0.00000000e+00  0.00000000e+00  0.00000000e+00\n",
            "  0.00000000e+00  0.00000000e+00  0.00000000e+00  0.00000000e+00\n",
            " -2.66666667e-04 -9.16666667e-04 -9.28333333e-03 -2.42833333e-02\n",
            " -4.37166667e-02 -6.41000000e-02 -1.20133333e-01 -1.60733333e-01\n",
            " -1.74183333e-01 -1.77433333e-01 -1.89316667e-01 -1.74150000e-01\n",
            " -1.86933333e-01 -1.53650000e-01 -1.00116667e-01 -7.12333333e-02\n",
            " -5.38166667e-02 -2.13666667e-02 -1.00833333e-02 -3.53333333e-03\n",
            "  0.00000000e+00  0.00000000e+00  0.00000000e+00  0.00000000e+00\n",
            "  0.00000000e+00  0.00000000e+00 -1.06666667e-03 -7.00000000e-04\n",
            " -6.95000000e-03 -5.48333333e-03 -4.71000000e-02 -1.38400000e-01\n",
            " -2.64183333e-01 -5.06616667e-01 -8.66800000e-01 -1.29008333e+00\n",
            " -1.87035000e+00 -2.52995000e+00 -3.20161667e+00 -3.62555000e+00\n",
            " -3.72198333e+00 -3.39255000e+00 -2.80293333e+00 -2.04438333e+00\n",
            " -1.20211667e+00 -6.33450000e-01 -2.96166667e-01 -9.39833333e-02\n",
            " -3.52166667e-02 -8.63333333e-03  0.00000000e+00  0.00000000e+00\n",
            "  0.00000000e+00  0.00000000e+00 -3.23333333e-03 -5.85000000e-03\n",
            " -1.20166667e-02 -6.97666667e-02 -2.12083333e-01 -5.46100000e-01\n",
            " -1.15441667e+00 -2.21590000e+00 -3.63963333e+00 -5.43800000e+00\n",
            " -7.40705000e+00 -9.69673333e+00 -1.18830833e+01 -1.32373667e+01\n",
            " -1.31246167e+01 -1.18135167e+01 -9.54366667e+00 -6.86305000e+00\n",
            " -4.19365000e+00 -2.27463333e+00 -1.06103333e+00 -4.13066667e-01\n",
            " -1.62083333e-01 -2.77666667e-02 -2.80000000e-03  0.00000000e+00\n",
            "  0.00000000e+00 -6.33333333e-04 -5.21666667e-03 -1.43500000e-02\n",
            " -8.08833333e-02 -4.10216667e-01 -1.04323333e+00 -2.41928333e+00\n",
            " -4.77575000e+00 -8.39441667e+00 -1.33102667e+01 -1.94773000e+01\n",
            " -2.70366833e+01 -3.52121667e+01 -4.18408000e+01 -4.52526000e+01\n",
            " -4.43388333e+01 -3.91414500e+01 -3.13282167e+01 -2.29239333e+01\n",
            " -1.48310167e+01 -8.66140000e+00 -4.54796667e+00 -2.13701667e+00\n",
            " -8.62900000e-01 -2.07750000e-01 -2.96500000e-02 -2.03333333e-03\n",
            "  0.00000000e+00  0.00000000e+00 -1.03166667e-02 -6.33500000e-02\n",
            " -3.95466667e-01 -1.46340000e+00 -3.58778333e+00 -7.22781667e+00\n",
            " -1.30171167e+01 -2.12179167e+01 -3.15004000e+01 -4.42063667e+01\n",
            " -5.59038500e+01 -5.58041500e+01 -6.71027333e+01 -7.25997833e+01\n",
            "  3.70760667e+01  5.58187500e+01  1.09057183e+02 -2.37938333e+01\n",
            "  1.31650167e+02  2.33490000e+02  2.34609683e+02  1.20360883e+02\n",
            " -2.99271667e+00 -8.43666667e-01 -1.41633333e-01 -4.70000000e-03\n",
            "  0.00000000e+00 -1.83333333e-04 -2.75000000e-02 -2.21433333e-01\n",
            " -1.11951667e+00 -3.28990000e+00 -7.43646667e+00 -1.42544333e+01\n",
            "  5.86225000e+00 -1.28851667e+00  4.08846000e+01  8.30871833e+01\n",
            "  8.07215333e+01  1.46767033e+02  1.34493883e+02  1.28901850e+02\n",
            "  1.31288667e+02  1.40966667e+02  1.28891883e+02  9.68346333e+01\n",
            "  1.98962883e+02  2.06687517e+02  1.74008100e+02  5.25575667e+01\n",
            " -5.38776667e+00 -1.85558333e+00 -3.72700000e-01 -3.03000000e-02\n",
            " -7.83333333e-04 -1.97333333e-02 -1.07666667e-01 -5.95650000e-01\n",
            " -2.31240000e+00 -5.92876667e+00 -1.24360500e+01  2.65482000e+01\n",
            "  2.01705217e+02  1.99101583e+02  1.79235283e+02  1.58896917e+02\n",
            "  1.41420517e+02  1.28000083e+02  1.20240883e+02  1.17601300e+02\n",
            "  1.19661350e+02  1.24322467e+02 -2.05466667e+01 -1.17442667e+01\n",
            "  1.22220667e+01  9.16711667e+00  1.08560833e+01 -1.52010500e+01\n",
            " -7.03366667e+00 -2.58303333e+00 -5.13100000e-01 -3.18833333e-02\n",
            " -4.06666667e-03 -5.08166667e-02 -3.29366667e-01 -1.31735000e+00\n",
            " -3.74813333e+00 -8.48346667e+00 -1.68181833e+01 -1.15974000e+01\n",
            "  1.72069850e+02  1.84893000e+02  1.62708617e+02  1.44524283e+02\n",
            "  1.33564583e+02  1.29606150e+02  7.49619500e+01  5.96593500e+01\n",
            "  1.24269950e+02  1.18855900e+02 -1.16260933e+02 -1.00610600e+02\n",
            " -7.73180333e+01 -5.28976000e+01 -3.18106167e+01 -1.63576667e+01\n",
            " -7.18566667e+00 -2.60661667e+00 -4.81583333e-01 -2.71833333e-02\n",
            " -4.86666667e-03 -7.94666667e-02 -5.12016667e-01 -1.71938333e+00\n",
            " -4.44581667e+00 -9.80663333e+00 -1.95264833e+01 -3.45048167e+01\n",
            "  2.52991000e+01  7.78619667e+01  7.96130000e+00  1.42399533e+02\n",
            "  1.42212450e+02  1.00446383e+02 -8.80472000e+01 -9.93883833e+01\n",
            " -6.13332167e+01  4.31179333e+01 -1.11078267e+02 -9.91469167e+01\n",
            " -7.70405500e+01 -5.27057667e+01 -3.14484167e+01 -1.53927167e+01\n",
            " -5.96113333e+00 -1.89796667e+00 -3.51833333e-01 -2.82166667e-02\n",
            " -6.66666667e-03 -9.85666667e-02 -5.23033333e-01 -1.67458333e+00\n",
            " -4.28908333e+00 -9.87643333e+00 -2.05393167e+01 -3.71890333e+01\n",
            " -5.97151167e+01 -6.93987333e+01 -9.92259000e+01  5.08311833e+01\n",
            "  1.59107867e+02  7.04718333e+00 -7.94228333e+01 -8.45250167e+01\n",
            " -9.38685833e+01 -1.04427533e+02 -1.06281183e+02 -9.42218667e+01\n",
            " -7.18490667e+01 -4.83172500e+01 -2.84781833e+01 -1.34981667e+01\n",
            " -4.60050000e+00 -1.15010000e+00 -2.21833333e-01 -1.87333333e-02\n",
            " -5.93333333e-03 -7.64000000e-02 -4.20883333e-01 -1.28036667e+00\n",
            " -3.64608333e+00 -9.55390000e+00 -2.11332333e+01 -3.98545167e+01\n",
            " -6.40892167e+01 -8.72096667e+01 -9.87805833e+01  4.41331500e+01\n",
            "  1.71316467e+02  1.16657233e+02 -7.41450667e+01 -8.54255500e+01\n",
            " -9.72928000e+01 -1.07482583e+02 -1.05509433e+02 -8.90295000e+01\n",
            " -6.49443500e+01 -4.24968833e+01 -2.53411000e+01 -1.25802167e+01\n",
            " -3.98988333e+00 -6.04533333e-01 -1.24500000e-01 -8.16666667e-03\n",
            " -3.80000000e-03 -4.36833333e-02 -2.42033333e-01 -8.78816667e-01\n",
            " -3.06883333e+00 -9.60745000e+00 -2.27779833e+01 -4.35750333e+01\n",
            " -6.89713333e+01 -9.02567000e+01 -9.78938167e+01 -8.00827333e+01\n",
            "  1.10293250e+02  1.73630883e+02 -1.93387000e+01 -1.01714517e+02\n",
            " -1.13037867e+02 -1.17581100e+02 -1.07426717e+02 -8.45188833e+01\n",
            " -5.85871667e+01 -3.82634500e+01 -2.37392333e+01 -1.27121000e+01\n",
            " -4.29471667e+00 -4.43250000e-01 -7.97833333e-02 -1.01666667e-02\n",
            " -5.33333333e-04 -1.82500000e-02 -1.22616667e-01 -6.07333333e-01\n",
            " -2.91783333e+00 -1.06341667e+01 -2.55538000e+01 -4.75837167e+01\n",
            " -7.26322333e+01 -9.16736500e+01 -9.68884167e+01 -9.10977333e+01\n",
            " -5.18673000e+01  1.44033450e+02  1.13628167e+02  3.60279333e+01\n",
            " -2.18065500e+01 -1.25599550e+02 -1.08880333e+02 -8.11576333e+01\n",
            " -5.52258667e+01 -3.72046000e+01 -2.39728000e+01 -1.36437500e+01\n",
            " -5.10268333e+00 -5.84700000e-01 -8.29833333e-02 -1.08666667e-02\n",
            " -1.88333333e-03 -8.25000000e-03 -5.41666667e-02 -4.66183333e-01\n",
            " -3.06558333e+00 -1.23512667e+01 -2.85280667e+01 -5.05083833e+01\n",
            " -7.37506167e+01 -9.03691833e+01 -9.50769833e+01 -9.32885333e+01\n",
            " -9.78289500e+01 -3.44213167e+01  1.09732750e+02  1.13446400e+02\n",
            "  1.15899367e+02 -9.08575000e+00 -8.19945167e+01 -7.95539500e+01\n",
            " -5.60965667e+01 -3.89430667e+01 -2.55374667e+01 -1.46162500e+01\n",
            " -5.72158333e+00 -8.20300000e-01 -9.24500000e-02 -2.21666667e-03\n",
            " -7.33333333e-04 -3.86666667e-03 -4.51000000e-02 -5.05583333e-01\n",
            " -3.56056667e+00 -1.44081500e+01 -3.09883167e+01 -5.12096333e+01\n",
            " -7.14404333e+01 -8.57322167e+01 -9.13810333e+01 -9.42424333e+01\n",
            " -1.05047117e+02 -1.23204200e+02 -9.06894333e+01  4.68899500e+01\n",
            "  1.21195500e+02  1.31563433e+02  4.86597000e+01 -5.13792667e+01\n",
            " -5.82829000e+01 -4.12509333e+01 -2.69801167e+01 -1.48906000e+01\n",
            " -5.82828333e+00 -1.07956667e+00 -1.48216667e-01 -1.08333333e-02\n",
            " -6.66666667e-04 -3.96666667e-03 -7.43333333e-02 -6.22966667e-01\n",
            " -4.46996667e+00 -1.65289667e+01 -3.25549167e+01 -4.99447333e+01\n",
            " -6.63117167e+01 -7.78862667e+01 -8.37070500e+01 -8.94484167e+01\n",
            " -1.01136017e+02 -1.15857400e+02 -1.26473417e+02 -1.11426650e+02\n",
            " -2.80568167e+01  1.40781900e+02  1.57627667e+02  1.09645217e+02\n",
            " -5.96073333e+01 -4.20403333e+01 -2.67287667e+01 -1.42431167e+01\n",
            " -5.61555000e+00 -1.28710000e+00 -1.91500000e-01 -1.23000000e-02\n",
            "  0.00000000e+00 -7.28333333e-03 -1.12200000e-01 -9.53350000e-01\n",
            " -5.95223333e+00 -1.85244000e+01 -3.34512000e+01 -4.81763500e+01\n",
            " -6.04605333e+01 -6.92180333e+01 -7.46814167e+01 -8.07367000e+01\n",
            " -8.95865500e+01 -1.01950417e+02 -1.12616500e+02 -1.15436917e+02\n",
            " -1.12244833e+02  1.44475850e+02  1.60373417e+02  1.71738517e+02\n",
            "  4.67148333e+00 -4.08083000e+01 -2.49427500e+01 -1.28348000e+01\n",
            " -5.15665000e+00 -1.41666667e+00 -2.10033333e-01 -8.88333333e-03\n",
            " -1.90000000e-03 -5.31666667e-03 -1.80500000e-01 -1.52015000e+00\n",
            " -7.62145000e+00 -2.04178667e+01 -3.49108333e+01 -4.81825667e+01\n",
            " -5.82768500e+01 -6.59944667e+01 -7.17466333e+01 -7.65832833e+01\n",
            " -8.31222000e+01 -9.51299333e+01 -6.05572000e+01  1.77986167e+01\n",
            "  7.16520667e+01  1.47981717e+02  1.59381417e+02  1.30372567e+02\n",
            " -5.47010833e+01 -3.77625667e+01 -2.25467167e+01 -1.13823333e+01\n",
            " -4.57905000e+00 -1.29855000e+00 -1.53933333e-01 -1.21833333e-02\n",
            " -2.50000000e-04 -1.21833333e-02 -2.86316667e-01 -2.04381667e+00\n",
            " -8.72351667e+00 -2.17344667e+01 -3.68331667e+01 -5.09790667e+01\n",
            " -6.23501500e+01 -7.12715167e+01 -7.78803000e+01 -8.26346667e+01\n",
            " -5.09674333e+01  4.65936833e+01  1.16554517e+02  1.35196550e+02\n",
            "  1.37075383e+02  1.45567500e+02  1.57722617e+02  1.10116700e+02\n",
            " -5.08002500e+01 -3.26939667e+01 -1.87729667e+01 -9.15635000e+00\n",
            " -3.64005000e+00 -1.06850000e+00 -1.46700000e-01 -6.83333333e-03\n",
            "  0.00000000e+00 -1.52666667e-02 -3.32000000e-01 -2.25566667e+00\n",
            " -8.51305000e+00 -2.06940833e+01 -3.70852167e+01 -5.37940333e+01\n",
            " -6.88695000e+01 -8.11596000e+01 -6.64059167e+01  1.61137000e+01\n",
            "  1.14265433e+02  1.35660483e+02  1.28047583e+02  1.27444250e+02\n",
            "  1.34783750e+02  9.71941667e+01 -5.87638333e+00 -6.12356500e+01\n",
            " -4.09525000e+01 -2.49440333e+01 -1.36286167e+01 -6.53750000e+00\n",
            " -2.71388333e+00 -7.49166667e-01 -1.11683333e-01 -1.68333333e-03\n",
            " -5.33333333e-04 -1.27000000e-02 -2.84233333e-01 -1.83920000e+00\n",
            " -6.63258333e+00 -1.69004833e+01 -3.28094667e+01 -5.15708833e+01\n",
            " -4.74237333e+01 -2.12520000e+01  1.12014867e+02  1.40544250e+02\n",
            "  1.30406000e+02  1.22627700e+02  1.21155100e+02  7.31319667e+01\n",
            " -2.90258000e+01 -8.74660000e+01 -6.65912667e+01 -4.55973833e+01\n",
            " -2.85566667e+01 -1.62958167e+01 -8.51148333e+00 -4.10908333e+00\n",
            " -1.70298333e+00 -4.43816667e-01 -5.90500000e-02 -6.50000000e-04\n",
            " -5.16666667e-04 -9.83333333e-04 -1.87083333e-01 -1.08796667e+00\n",
            " -3.94443333e+00 -1.08453667e+01 -5.39063333e+00  1.30361467e+02\n",
            "  1.58030817e+02  1.71994600e+02  1.53888567e+02  1.39899500e+02\n",
            "  1.30475683e+02  6.96977500e+01 -4.06135667e+01 -9.81858667e+01\n",
            " -8.77064167e+01 -6.59730500e+01 -4.53337167e+01 -2.87308167e+01\n",
            " -1.69034500e+01 -9.16145000e+00 -4.70896667e+00 -2.22501667e+00\n",
            " -8.35133333e-01 -1.89116667e-01 -1.78333333e-02 -1.20000000e-03\n",
            "  0.00000000e+00  0.00000000e+00 -6.41666667e-02 -4.18766667e-01\n",
            "  5.32673000e+01  1.66985267e+02  2.13969083e+02  2.29059867e+02\n",
            "  2.12743417e+02  1.94107517e+02  1.75731133e+02  1.51967800e+02\n",
            "  3.32956167e+01 -8.81646667e+01 -9.05921000e+01 -7.55835000e+01\n",
            " -5.75861333e+01 -4.01938000e+01 -2.54972333e+01 -1.52398333e+01\n",
            " -8.52368333e+00 -4.41923333e+00 -2.20506667e+00 -9.81650000e-01\n",
            " -3.10366667e-01 -5.79666667e-02 -9.61666667e-03  0.00000000e+00\n",
            "  0.00000000e+00  0.00000000e+00 -1.58500000e-02 -1.22200000e-01\n",
            "  1.35456367e+02  2.51399150e+02  2.48796683e+02  2.43856417e+02\n",
            "  1.95172383e+02  1.07923183e+02  9.38966167e+01 -3.10437833e+01\n",
            " -5.16087500e+01 -5.09622500e+01 -4.54375833e+01 -3.67445333e+01\n",
            " -2.74417833e+01 -1.91085833e+01 -1.21141500e+01 -7.21490000e+00\n",
            " -3.95933333e+00 -1.99318333e+00 -9.51233333e-01 -3.99633333e-01\n",
            " -1.01816667e-01 -2.21833333e-02 -1.93333333e-03  0.00000000e+00\n",
            "  0.00000000e+00  0.00000000e+00 -1.56666667e-03 -1.77833333e-02\n",
            " -1.27783333e-01 -4.74500000e-01 -1.40550000e+00 -3.18078333e+00\n",
            " -6.14340000e+00 -9.82870000e+00 -1.38693333e+01 -1.67183333e+01\n",
            " -1.81000167e+01 -1.77754000e+01 -1.58076667e+01 -1.31235500e+01\n",
            " -1.04980500e+01 -7.79116667e+00 -5.22193333e+00 -3.16213333e+00\n",
            " -1.69133333e+00 -8.25383333e-01 -3.70583333e-01 -1.39816667e-01\n",
            " -3.12666667e-02 -3.56666667e-03 -1.73333333e-03  0.00000000e+00\n",
            "  0.00000000e+00  0.00000000e+00  0.00000000e+00 -6.33333333e-04\n",
            " -3.54500000e-02 -1.63083333e-01 -5.38283333e-01 -1.19935000e+00\n",
            " -2.31608333e+00 -3.51143333e+00 -4.85021667e+00 -5.98023333e+00\n",
            " -6.44481667e+00 -6.25923333e+00 -5.57051667e+00 -4.45076667e+00\n",
            " -3.53493333e+00 -2.59181667e+00 -1.70116667e+00 -1.00860000e+00\n",
            " -5.40283333e-01 -2.38400000e-01 -7.52666667e-02 -1.61666667e-02\n",
            " -5.16666667e-04 -9.83333333e-04  0.00000000e+00  0.00000000e+00\n",
            "  0.00000000e+00  0.00000000e+00  0.00000000e+00  0.00000000e+00\n",
            " -2.53333333e-03 -1.55833333e-02 -4.16333333e-02 -8.92000000e-02\n",
            " -1.28216667e-01 -1.96733333e-01 -3.36016667e-01 -4.29966667e-01\n",
            " -5.25983333e-01 -5.90683333e-01 -6.88033333e-01 -5.92066667e-01\n",
            " -4.82733333e-01 -3.43516667e-01 -2.00433333e-01 -8.88666667e-02\n",
            " -4.56333333e-02 -1.92833333e-02 -1.51166667e-02 -2.00000000e-03\n",
            "  0.00000000e+00  0.00000000e+00  0.00000000e+00  0.00000000e+00]\n"
          ],
          "name": "stdout"
        }
      ]
    },
    {
      "cell_type": "markdown",
      "metadata": {
        "id": "AmPDE2ZyJ96q"
      },
      "source": [
        "### 2.2 Compute the Singular Value Decomposition (SVD) for the given data [5 points]\n"
      ]
    },
    {
      "cell_type": "code",
      "metadata": {
        "id": "XdhwqrXIJJa6"
      },
      "source": [
        "U,S,V = None, None, None\n",
        "### YOUR CODE HERE\n",
        "# hint: You need np.linalg.svd function here \n",
        "U,S,V = \n",
        "### END OF CODE"
      ],
      "execution_count": null,
      "outputs": []
    },
    {
      "cell_type": "markdown",
      "metadata": {
        "id": "ABZjCtNVbnAk"
      },
      "source": [
        "### Question 2.3 Project data onto the first 2 principal components [5 points]\n",
        "\n",
        "Now you need to project the centered data on the 2D space formed by the eigenvectors corresponding to the 2 largest eigenvalues. Create a 2D scatter plot where you need to assign a unique color to each digit class."
      ]
    },
    {
      "cell_type": "code",
      "metadata": {
        "id": "GrccMkKOKUnX"
      },
      "source": [
        "import seaborn as sns \n",
        "# this is the library for visualization\n",
        "# you can use sns.scatterplot() function to visualize a scattered plot of the results\n",
        "\n",
        "### YOUR CODE HERE\n",
        "projected = \n",
        "### END OF CODE\n",
        "\n",
        "df = pd.DataFrame(data = projected, columns=['comp1', 'comp2'])\n",
        "df['labels'] = pd.Series(labels)\n",
        "sns.scatterplot(\n",
        "    x=\"comp1\", y=\"comp2\",\n",
        "    hue=\"labels\",\n",
        "    palette=sns.color_palette(\"hls\", 10),\n",
        "    data=df,\n",
        "    legend=\"full\",\n",
        "    alpha=0.3\n",
        ")\n"
      ],
      "execution_count": null,
      "outputs": []
    },
    {
      "cell_type": "markdown",
      "metadata": {
        "id": "Ivw9YIDtd06F"
      },
      "source": [
        "### Question 2.4 Unproject data back to high dimensions [5 points]\n",
        "For this question, you need to project the 10 images you plotted in **1.2.3** on the first 2 principal components, and then unproject the \"compressed\" 2-D representations back to the original space. Plot the \"compressed\" digit (the reconstructed digit). Do they look similar to the original images?"
      ]
    },
    {
      "cell_type": "code",
      "metadata": {
        "id": "gvfQMPzpbe0A"
      },
      "source": [
        "### YOUR CODE HERE\n",
        "reconstructed = \n",
        "### END OF CODE\n",
        "\n",
        "digit_images = np.zeros([10, 28, 28])\n",
        "for i in range(10):\n",
        "  for x,y in zip(reconstructed, labels):\n",
        "    x = x.reshape(28,28)\n",
        "    if y == i:\n",
        "      digit_images[i] = x\n",
        "      break\n",
        "  plt.imshow(digit_images[i])\n",
        "  plt.show()\n",
        "\n"
      ],
      "execution_count": null,
      "outputs": []
    },
    {
      "cell_type": "markdown",
      "metadata": {
        "id": "4qj4Gu5NeHYf"
      },
      "source": [
        "### Question 2.5 Choose a better low dimension space. [5pt]\n",
        "Do the previous problem with more dimensions (e.g. 3, 5, 10, 20, 50, 100). You only need to show results for one of them. Answer the following questions. How many dimensions are required to represent the digits reasonably well? Briefly explain what criteria you used to select the number of dimensions and how it relates to the SVD."
      ]
    },
    {
      "cell_type": "markdown",
      "metadata": {
        "id": "sOHuk1VBe4dG"
      },
      "source": [
        "### Question 2.6 PCA Using Eigen Decomposition\n",
        "\n",
        "Now we will perform PCA using method 2: Eigen Decomposition.\n",
        "\n",
        "For this method, we need to compute the covariance matrix of the data first. Prof. Su has added three slides at the end of Lec 4 (https://ucsd-cse-152.github.io/FA20/slides/Lec3.pdf) from P30-P32. Please read the slides before you proceed. \n",
        "\n",
        "### Question 2.6.1 Compute the covariance matrix of the data [5 points]\n",
        "You need to store the covariance matrix of the data in variable data_covmat. You may not use numpy.cov"
      ]
    },
    {
      "cell_type": "code",
      "metadata": {
        "id": "1Y71pba6hkk7"
      },
      "source": [
        "data_covmat = None\n",
        "### YOUR CODE HERE\n",
        "data_covmat = \n",
        "### END OF CODE"
      ],
      "execution_count": null,
      "outputs": []
    },
    {
      "cell_type": "markdown",
      "metadata": {
        "id": "Q56gE7MiiJBd"
      },
      "source": [
        "### Question 2.6.2 Compute the eigenvalues and eigen vectors of the covariance matrix [5pt]\n",
        "You need to store the eigenvalues of the covariance matrix in variable `covmat_eig`, sorted in descending order and the corresponding eigenvectors in `covmat_eigvec`. Then you need to plot the eigenvalues with `plt.plot`. You can use any numpy function."
      ]
    },
    {
      "cell_type": "code",
      "metadata": {
        "id": "bPdGjB9KrPSp"
      },
      "source": [
        "covmat_eigvec, covmat_eig = None, None\n",
        "### YOUR CODE HERE\n",
        "# hint: you may use np.linalg.eig\n",
        "covmat_eig, covmat_eigvec =\n",
        "### END OF CODE"
      ],
      "execution_count": null,
      "outputs": []
    },
    {
      "cell_type": "markdown",
      "metadata": {
        "id": "tg7EZxsDrwg0"
      },
      "source": [
        "### Question 2.6.3 Project data onto the first 2 principal components [5 points]\n",
        "\n",
        "Now you need to project the centered data on the 2D space formed by the eigenvectors corresponding to the 2 largest eigenvalues. Create a 2D scatter plot where you need to assign a unique color to each digit class. Feel free to use any plotting libraries"
      ]
    },
    {
      "cell_type": "code",
      "metadata": {
        "id": "SPjBm2SvsDN4"
      },
      "source": [
        "import seaborn as sns\n",
        "### YOUR CODE HERE\n",
        "projected = \n",
        "### END OF CODE\n",
        "df = pd.DataFrame(data = projected, columns=['comp1', 'comp2'])\n",
        "df['labels'] = pd.Series(labels)\n",
        "sns.scatterplot(\n",
        "    x=\"comp1\", y=\"comp2\",\n",
        "    hue=\"labels\",\n",
        "    palette=sns.color_palette(\"hls\", 10),\n",
        "    data=df,\n",
        "    legend=\"full\",\n",
        "    alpha=0.3\n",
        ")"
      ],
      "execution_count": null,
      "outputs": []
    },
    {
      "cell_type": "markdown",
      "metadata": {
        "id": "zTcCBTJssgxy"
      },
      "source": [
        "### Question 2.6.4 Compare the 2 approaches\n",
        "\n",
        "What if any is the difference/similariy in computing PCA between the 2 approaches ? Briefly justify your answer."
      ]
    },
    {
      "cell_type": "markdown",
      "metadata": {
        "id": "Bu6KbNUm1MvW"
      },
      "source": [
        "## Question 3: Neural Networks for Regression\n",
        "\n",
        "As an introduction to the idea of performing regression using Neural Networks, we will first try to build a basic MultiLayer Perceptron (MLP) for fitting a line to random data. "
      ]
    },
    {
      "cell_type": "code",
      "metadata": {
        "id": "l6g4PaT5dBSI"
      },
      "source": [
        "import torch\n",
        "from torch.autograd import Variable\n",
        "import torch.nn.functional as F\n",
        "import torch.utils.data as Data\n",
        "\n",
        "\n",
        "torch.manual_seed(1)    # reproducible\n",
        "\n",
        "x = torch.unsqueeze(torch.linspace(-1, 1, 100), dim=1)  # x data (tensor), shape=(100, 1)\n",
        "y = x.pow(2) + 0.2*torch.rand(x.size())                 # noisy y data (tensor), shape=(100, 1)\n",
        "\n",
        "# torch can only train on Variable, so convert them to Variable\n",
        "x, y = Variable(x), Variable(y)\n",
        "\n",
        "# view data\n",
        "plt.figure(figsize=(10,4))\n",
        "plt.scatter(x.data.numpy(), y.data.numpy(), color = \"orange\")\n",
        "plt.title('Regression Analysis')\n",
        "plt.xlabel('x')\n",
        "plt.ylabel('y')\n",
        "plt.show()"
      ],
      "execution_count": null,
      "outputs": []
    },
    {
      "cell_type": "markdown",
      "metadata": {
        "id": "IAqH_GAQ2iyP"
      },
      "source": [
        "### 3.1 Fitting a basic model\n",
        "\n",
        "Let's try to fit a basic 2 layer network for this given data. We will use one hidden layer with 10 neurons/units and the output layer has one neuron to predict a single value. For this given data, given the x value our goal is to predict a y value which most accurately describes the data."
      ]
    },
    {
      "cell_type": "markdown",
      "metadata": {
        "id": "HxiPbmIO27EW"
      },
      "source": [
        "The basic pytorch work flow involves 4 steps:\n",
        "- Implement the model and initialize it\n",
        "- Decide on the right optimizer\n",
        "- Choose an appropriate loss function for your learning task\n",
        "- train the model over the given data"
      ]
    },
    {
      "cell_type": "code",
      "metadata": {
        "id": "m2dF1DKAgJHZ"
      },
      "source": [
        "# this is one way to define a network\n",
        "class Net(torch.nn.Module):\n",
        "    def __init__(self, n_feature, n_hidden, n_output):\n",
        "        super(Net, self).__init__()\n",
        "        self.hidden = torch.nn.Linear(n_feature, n_hidden)   # hidden layer\n",
        "        self.predict = torch.nn.Linear(n_hidden, n_output)   # output layer\n",
        "\n",
        "    def forward(self, x):\n",
        "        x = F.relu(self.hidden(x))      # activation function for hidden layer\n",
        "        x = self.predict(x)             # linear output\n",
        "        return x\n",
        "\n",
        "net = Net(n_feature=1, n_hidden=10, n_output=1)     # define the network\n",
        "print(net)  # net architecture"
      ],
      "execution_count": null,
      "outputs": []
    },
    {
      "cell_type": "markdown",
      "metadata": {
        "id": "FdxLvWEQ4bwi"
      },
      "source": [
        "For this simple model we will be using the MSE Loss which is the most common and simple loss function used for regression tasks. The MSE loss is the l2 norm of the difference. \n",
        "The MSE loss is given by:\n",
        "$$\n",
        "L(x,y) = \\frac{1}{N}\\Sigma_{i=1}^{i=n} (x - y)^2\n",
        "$$\n",
        "where $N$ is the number of data points\n",
        "\n",
        "For our optimizer we will use Stochastic Gradient Descent (SGD) which is sufficient for this problem"
      ]
    },
    {
      "cell_type": "code",
      "metadata": {
        "id": "YkRGal3b3W88"
      },
      "source": [
        "optimizer = torch.optim.SGD(net.parameters(), lr=0.2)\n",
        "loss_func = torch.nn.MSELoss()"
      ],
      "execution_count": null,
      "outputs": []
    },
    {
      "cell_type": "markdown",
      "metadata": {
        "id": "1xg2cvCC897L"
      },
      "source": [
        "We now train the network on the data for 200 epochs. The training process involves first forward propogating the input through the network after which we calculate the loss value from the current prediction. We then backpropogate the gradient of the loss all the way back through the network. This is done by the `loss.backward()` statement. Once the gradients have been computed we update the weights which in pytorch can be easily done by calling the `optimizer.step()` function."
      ]
    },
    {
      "cell_type": "code",
      "metadata": {
        "id": "VioH4xoouAMY"
      },
      "source": [
        "# train the network\n",
        "for t in range(200):\n",
        "    prediction = net(x)     # input x and predict based on x\n",
        "    loss = loss_func(prediction, y)     # must be (1. nn output, 2. target)\n",
        "    optimizer.zero_grad()   # clear gradients for next train\n",
        "    loss.backward()         # backpropagation, compute gradients\n",
        "    optimizer.step()        # apply gradients"
      ],
      "execution_count": null,
      "outputs": []
    },
    {
      "cell_type": "markdown",
      "metadata": {
        "id": "Wifjt0B79-xh"
      },
      "source": [
        "Let's compare how our model performs by plotting the line fit by our basic MLP on top of the data that we generated"
      ]
    },
    {
      "cell_type": "code",
      "metadata": {
        "id": "Tzbfj-wp9vyT"
      },
      "source": [
        "fig, ax = plt.subplots(figsize=(12,7))    \n",
        "ax.scatter(x.data.numpy(), y.data.numpy(), color = \"orange\", label='ground truth')\n",
        "ax.plot(x.data.numpy(), prediction.data.numpy(), 'g-', lw=3, label='prediction')\n",
        "plt.legend()\n",
        "plt.show()"
      ],
      "execution_count": null,
      "outputs": []
    },
    {
      "cell_type": "markdown",
      "metadata": {
        "id": "SRyquY6x-vAn"
      },
      "source": [
        "### Q3.2 Fit a model for the sin function\n",
        "\n",
        "We tried to fit a model to a basic randomly generated dataset. Let's now try to implement a MLP that can fit the sin function. We start once again by generating a dataset for this."
      ]
    },
    {
      "cell_type": "code",
      "metadata": {
        "id": "JAlnvr6ext7g"
      },
      "source": [
        "\n",
        "x = torch.unsqueeze(torch.linspace(-10, 10, 1000), dim=1)  # x data (tensor), shape=(100, 1)\n",
        "y = torch.sin(x) + 0.2*torch.rand(x.size())                 # noisy y data (tensor), shape=(100, 1)\n",
        "\n",
        "x, y = Variable(x), Variable(y)\n",
        "\n",
        "plt.figure(figsize=(10,4))\n",
        "plt.scatter(x.data.numpy(), y.data.numpy(), color = \"orange\")\n",
        "plt.title('Regression Analysis')\n",
        "plt.xlabel('x')\n",
        "plt.ylabel('y')\n",
        "plt.show()"
      ],
      "execution_count": null,
      "outputs": []
    },
    {
      "cell_type": "markdown",
      "metadata": {
        "id": "WFVTXz6E_Bjm"
      },
      "source": [
        "### Q 3.2 Implement the MLP [5 points]\n",
        "\n",
        "\n",
        "\n",
        "\n",
        "Fill in the template code below to configure your model. Implement the model description as well as the forward pass for the network. "
      ]
    },
    {
      "cell_type": "code",
      "metadata": {
        "id": "PsiGtyedyX8D"
      },
      "source": [
        "class Net(torch.nn.Module):\n",
        "    def __init__(self):\n",
        "      super(Net, self).__init__()\n",
        "      \n",
        "      self.fc1 = torch.nn.Linear(1, 200)\n",
        "      # ... continue to construct the network\n",
        "      ### YOUR CODE HERE\n",
        "    \n",
        "      ### END OF CODE\n",
        "\n",
        "    def forward(self, x):\n",
        "      ### YOUR CODE HERE\n",
        "\n",
        "      ### END OF CODE\n",
        "      return x\n"
      ],
      "execution_count": null,
      "outputs": []
    },
    {
      "cell_type": "code",
      "metadata": {
        "id": "GIGPI_eU_0Zo"
      },
      "source": [
        "net = Net()\n",
        "\n",
        "optimizer = torch.optim.Adam(net.parameters(), lr=0.01)\n",
        "loss_func = torch.nn.MSELoss()\n",
        "\n",
        "BATCH_SIZE = 64\n",
        "EPOCH = 200\n",
        "\n",
        "torch_dataset = Data.TensorDataset(x, y)\n",
        "\n",
        "loader = Data.DataLoader(\n",
        "    dataset=torch_dataset, \n",
        "    batch_size=BATCH_SIZE, \n",
        "    shuffle=True, num_workers=2,)\n",
        "\n",
        "\n",
        "# start training\n",
        "for epoch in range(EPOCH):\n",
        "    for step, (batch_x, batch_y) in enumerate(loader):\n",
        "        \n",
        "        b_x = Variable(batch_x)\n",
        "        b_y = Variable(batch_y)\n",
        "\n",
        "        prediction = net(b_x)     # input x and predict based on x\n",
        "\n",
        "        loss = loss_func(prediction, b_y)\n",
        "\n",
        "        optimizer.zero_grad()   # clear gradients for next train\n",
        "        loss.backward()         # backpropagation, compute gradients\n",
        "        optimizer.step()        # apply gradients"
      ],
      "execution_count": null,
      "outputs": []
    },
    {
      "cell_type": "code",
      "metadata": {
        "id": "hJltr2A3y3KX"
      },
      "source": [
        "fig, ax = plt.subplots(figsize=(10,8))\n",
        "# ax.set_title('Regression Analysis - model 3, Batches', fontsize=35)\n",
        "ax.set_xlabel('x', fontsize=24)\n",
        "ax.set_ylabel('sin(x)', fontsize=24)\n",
        "ax.set_xlim(-11.0, 13.0)\n",
        "ax.set_ylim(-1.1, 1.2)\n",
        "ax.scatter(x.data.numpy(), y.data.numpy(), color = \"orange\", alpha=0.2)\n",
        "prediction = net(x)     # input x and predict based on x\n",
        "ax.scatter(x.data.numpy(), prediction.data.numpy(), color='green', alpha=0.5)\n",
        "plt.show()"
      ],
      "execution_count": null,
      "outputs": []
    },
    {
      "cell_type": "markdown",
      "metadata": {
        "id": "rteDuMr3Bwy1"
      },
      "source": [
        "## Q4. Corner detection using CNNs\n",
        "\n",
        "In this section we will implement a Convolution Neural Network(CNN) for detecting corners in images. In particular given an image with a corner in it, the CNN will output the coordinates of the corner in the image.\n",
        "\n"
      ]
    },
    {
      "cell_type": "code",
      "metadata": {
        "id": "mzvBpSMXC8fu"
      },
      "source": [
        "import pickle\n",
        "from torch.utils.data import TensorDataset, DataLoader"
      ],
      "execution_count": null,
      "outputs": []
    },
    {
      "cell_type": "code",
      "metadata": {
        "id": "60AMhNgyUzTg"
      },
      "source": [
        "### Only run this cell if you're mounting google drive and using it to acccess \n",
        "### the data. If using please change the path accordingly\n",
        "import os\n",
        "os.chdir('/content/drive/My Drive/.....')"
      ],
      "execution_count": null,
      "outputs": []
    },
    {
      "cell_type": "code",
      "metadata": {
        "id": "80_j9p5JC_P-"
      },
      "source": [
        "data, labels = pickle.load(open('./corner_dataset_100x100.pick', 'rb'))"
      ],
      "execution_count": null,
      "outputs": []
    },
    {
      "cell_type": "code",
      "metadata": {
        "id": "HHR2tjqORzXu"
      },
      "source": [
        "tensor_x = torch.Tensor(data) # transform to torch tensor\n",
        "tensor_y = torch.Tensor(labels)\n",
        "\n",
        "dataset = TensorDataset(tensor_x,tensor_y) # create your datset\n",
        "train_split, test_split = int(0.75 * len(dataset)), int(0.25 * len(dataset) + 1) \n",
        "print(train_split, test_split, len(dataset))\n",
        "trainset, testset = torch.utils.data.random_split(dataset, [train_split, test_split])\n",
        "\n",
        "trainloader = DataLoader(trainset, batch_size=64, shuffle=True)\n",
        "testloader = DataLoader(testset, batch_size=64, shuffle=True)\n",
        "# dataloader = DataLoader(dataset, batch_size =128, shuffle = True) # create your dataloader"
      ],
      "execution_count": null,
      "outputs": []
    },
    {
      "cell_type": "markdown",
      "metadata": {
        "id": "AJse9OPH97cR"
      },
      "source": [
        "### Q 4.1 Implement the CNN [10 points]\n",
        "Complete the code below to implement your model. You will have design your own CNN that can detect corners in images. You can find the list of layers available as part of pytorch [here](https://pytorch.org/docs/stable/nn.html). You will use a combination of the following layers:\n",
        "- Convolution layer - this layer performs convolution on the images. [doc](https://pytorch.org/docs/stable/generated/torch.nn.Conv2d.html#torch.nn.Conv2d)\n",
        "- MaxPool Layer - maxpool layers are used to reduce the dimensions of feature maps while maintaining translation invariance. [DOC](https://pytorch.org/docs/stable/generated/torch.nn.MaxPool2d.html#torch.nn.MaxPool2d)\n",
        "- Flatten - Since the output of the convolution layers are image like feature maps you will need a layer which can convert or flatten the image into a single array. This layer does that. [DOC](https://pytorch.org/docs/stable/generated/torch.nn.Flatten.html#torch.nn.Flatten)\n",
        "- Non Linearities - You need a non-linear activation function after each layer. You have several choices for these such as sigmoid, relu etc. [DOC](https://pytorch.org/docs/stable/nn.html#non-linear-activations-weighted-sum-nonlinearity)"
      ]
    },
    {
      "cell_type": "code",
      "metadata": {
        "id": "oKxWx5yRU903"
      },
      "source": [
        "# this is one way to define a network\n",
        "class CornerNet(torch.nn.Module):\n",
        "    def __init__(self):\n",
        "        super(CornerNet, self).__init__()\n",
        "        \n",
        "        self.conv1 = torch.nn.Conv2d(1,32, kernel_size=(3,3), stride=1, padding=1)        \n",
        "        # ... continue the construction of the network\n",
        "        ### YOUR CODE HERE\n",
        "        # Hint: You may need torch.nn.Conv2d(), torch.nn.MaxPool2D(), torch.nn.Flatten(), torch.nn.Linear(), torch.nn.Sigmoid(), torch.nn.ReLU()\n",
        "        \n",
        "        ### END OF CODE\n",
        "\n",
        "    def forward(self, x):\n",
        "      x = self.conv1(x)\n",
        "      ### YOUR CODE HERE\n",
        "      # make sure to be consistent with your network definition in __init__() function of this class  \n",
        "      \n",
        "      ### END OF CODE\n",
        "\n",
        "      return x\n",
        "        \n",
        "\n",
        "net = CornerNet()\n",
        "print(net)"
      ],
      "execution_count": null,
      "outputs": []
    },
    {
      "cell_type": "markdown",
      "metadata": {
        "id": "bVNaKCytB5on"
      },
      "source": [
        "Feel free to change and explore hyperparameters such as learning rate (lr) and number of epochs. You may use different optimizer or criterions as well to improve your accuracy."
      ]
    },
    {
      "cell_type": "code",
      "metadata": {
        "id": "ja6A66hIWlRR"
      },
      "source": [
        "lr = 3e-3\n",
        "optimizer = torch.optim.Adagrad(net.parameters(), lr = lr)\n",
        "criterion = torch.nn.MSELoss()\n",
        "cuda_status = torch.cuda.is_available()\n",
        "\n",
        "if cuda_status:\n",
        "  net = net.cuda()\n",
        "  \n",
        "net.train()\n",
        "for epoch in range(80):\n",
        "  training_loss = 0\n",
        "  for i,(x,y) in enumerate(trainloader):\n",
        "    y /= 100\n",
        "    if cuda_status:\n",
        "      y = y.cuda()\n",
        "      x = x.cuda()\n",
        "    x = torch.unsqueeze(x,1)\n",
        "    out = net(x)\n",
        "    loss = criterion(out, y)\n",
        "    training_loss += loss.item()\n",
        "    loss.backward()\n",
        "    optimizer.step()\n",
        "  training_loss /= i\n",
        "  print(\"\\tEpoch: {} Loss: {}\".format(epoch, training_loss))\n"
      ],
      "execution_count": null,
      "outputs": []
    },
    {
      "cell_type": "markdown",
      "metadata": {
        "id": "WHq6U6loDElL"
      },
      "source": [
        "We will now evaluate our trained network on the test dataset. Please report the final test loss your network achieves on the data"
      ]
    },
    {
      "cell_type": "code",
      "metadata": {
        "id": "_qojHtLnddve"
      },
      "source": [
        "net.cpu()\n",
        "net.eval()\n",
        "with torch.no_grad():\n",
        "  test_loss = 0\n",
        "  for i,(x,y) in enumerate(testloader):\n",
        "    y /= 100\n",
        "    x = torch.unsqueeze(x, 1)\n",
        "    coords = net(x)\n",
        "    loss = criterion(y, coords).item()\n",
        "    test_loss += loss\n",
        "  test_loss /= i\n",
        "  print(\"Test loss: \", test_loss)"
      ],
      "execution_count": null,
      "outputs": []
    },
    {
      "cell_type": "markdown",
      "metadata": {
        "id": "dC79M-wsDLFR"
      },
      "source": [
        "### Visualize performance\n",
        "\n",
        "Let's try to visualize the performance of the model. We will plot the image first and then overlay the coordinates of the corner on top of the image to see if the location is correct"
      ]
    },
    {
      "cell_type": "code",
      "metadata": {
        "id": "TvYuwIpSex8g"
      },
      "source": [
        "with torch.no_grad():\n",
        "  for i,(x,y) in enumerate(testloader):\n",
        "    x = torch.unsqueeze(x, 1)\n",
        "    coords = net(x)\n",
        "\n",
        "    for j in range(10):\n",
        "      fig, ax = plt.subplots()\n",
        "      ax.imshow(x[j][0], cmap=plt.cm.gray)\n",
        "      pts = y[j]\n",
        "      pts = coords[j] * 100\n",
        "      print(pts)\n",
        "      print(y[j])\n",
        "      ax.plot(pts[1], pts[0], color='red', marker='o',\n",
        "              linestyle='None', markersize=6)\n",
        "      plt.show()\n",
        "\n",
        "    break"
      ],
      "execution_count": null,
      "outputs": []
    },
    {
      "cell_type": "code",
      "metadata": {
        "id": "2lrdpvlIgB35"
      },
      "source": [
        ""
      ],
      "execution_count": null,
      "outputs": []
    }
  ]
}